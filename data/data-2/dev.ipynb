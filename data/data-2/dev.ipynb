{
 "cells": [
  {
   "cell_type": "code",
   "execution_count": 2,
   "metadata": {},
   "outputs": [],
   "source": [
    "import json\n",
    "import pandas as pd \n",
    "import os "
   ]
  },
  {
   "cell_type": "code",
   "execution_count": 3,
   "metadata": {},
   "outputs": [],
   "source": [
    "l = []\n",
    "for f in os.listdir('preset/'):\n",
    "    pair = {\"image\": f\"preset/{f}\", \"label\": int(f[0]) }\n",
    "    l.append(pair)\n",
    "\n"
   ]
  },
  {
   "cell_type": "code",
   "execution_count": 4,
   "metadata": {},
   "outputs": [
    {
     "data": {
      "text/plain": [
       "[{'image': 'preset/2-04.png', 'label': 2},\n",
       " {'image': 'preset/2-03.png', 'label': 2},\n",
       " {'image': 'preset/2-02.png', 'label': 2},\n",
       " {'image': 'preset/2-01.png', 'label': 2},\n",
       " {'image': 'preset/1-02.png', 'label': 1},\n",
       " {'image': 'preset/1-03.png', 'label': 1},\n",
       " {'image': 'preset/1-01.png', 'label': 1},\n",
       " {'image': 'preset/3-04.png', 'label': 3},\n",
       " {'image': 'preset/1-04.png', 'label': 1},\n",
       " {'image': 'preset/3-01.png', 'label': 3},\n",
       " {'image': 'preset/3-02.png', 'label': 3},\n",
       " {'image': 'preset/3-03.png', 'label': 3}]"
      ]
     },
     "execution_count": 4,
     "metadata": {},
     "output_type": "execute_result"
    }
   ],
   "source": [
    "l"
   ]
  },
  {
   "cell_type": "code",
   "execution_count": null,
   "metadata": {},
   "outputs": [],
   "source": []
  }
 ],
 "metadata": {
  "kernelspec": {
   "display_name": "main",
   "language": "python",
   "name": "python3"
  },
  "language_info": {
   "codemirror_mode": {
    "name": "ipython",
    "version": 3
   },
   "file_extension": ".py",
   "mimetype": "text/x-python",
   "name": "python",
   "nbconvert_exporter": "python",
   "pygments_lexer": "ipython3",
   "version": "3.12.1"
  }
 },
 "nbformat": 4,
 "nbformat_minor": 2
}
