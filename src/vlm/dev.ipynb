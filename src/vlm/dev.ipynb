{
 "cells": [
  {
   "cell_type": "code",
   "execution_count": 2,
   "metadata": {},
   "outputs": [],
   "source": [
    "import json"
   ]
  },
  {
   "cell_type": "code",
   "execution_count": 5,
   "metadata": {},
   "outputs": [],
   "source": [
    "jo = json.load(open('/Users/LIU/Documents/Dev/yarncv/src/vlm/presets.json5', 'r'))"
   ]
  },
  {
   "cell_type": "code",
   "execution_count": 14,
   "metadata": {},
   "outputs": [],
   "source": [
    "pairs=jo['presets'][0]['pairs']"
   ]
  },
  {
   "cell_type": "code",
   "execution_count": null,
   "metadata": {},
   "outputs": [
    {
     "ename": "AttributeError",
     "evalue": "'list' object has no attribute 'items'",
     "output_type": "error",
     "traceback": [
      "\u001b[0;31m---------------------------------------------------------------------------\u001b[0m",
      "\u001b[0;31mAttributeError\u001b[0m                            Traceback (most recent call last)",
      "Cell \u001b[0;32mIn[16], line 1\u001b[0m\n\u001b[0;32m----> 1\u001b[0m \u001b[38;5;28;01mfor\u001b[39;00m k, v \u001b[38;5;129;01min\u001b[39;00m \u001b[43mpairs\u001b[49m\u001b[38;5;241;43m.\u001b[39;49m\u001b[43mitems\u001b[49m():\n\u001b[1;32m      2\u001b[0m     \u001b[38;5;28mprint\u001b[39m(k)\n",
      "\u001b[0;31mAttributeError\u001b[0m: 'list' object has no attribute 'items'"
     ]
    }
   ],
   "source": [
    "for pair in pairs:\n",
    "    print(k)"
   ]
  },
  {
   "cell_type": "code",
   "execution_count": 10,
   "metadata": {},
   "outputs": [],
   "source": [
    "df = pd.read_csv('preset1.csv',header=0,dtype={'img_path':str,'label_id':int})"
   ]
  },
  {
   "cell_type": "code",
   "execution_count": 13,
   "metadata": {},
   "outputs": [
    {
     "name": "stdout",
     "output_type": "stream",
     "text": [
      "refined-2/0/Image_w720_h540_fn5009_1747379648018.png => 0\n",
      "refined-2/0/Image_w720_h540_fn5120_1747379648591.png => 0\n",
      "refined-2/2/Image_w720_h540_fn3312_1747375446310.png => 2\n",
      "refined-2/2/Image_w720_h540_fn3028_1747375444844.png => 2\n",
      "refined-2/2/Image_w720_h540_fn4639_1747375453166.png => 2\n",
      "refined-2/2/Image_w720_h540_fn4713_1747375453545.png => 2\n",
      "refined-2/1/Image_w720_h540_fn1164_1747376273768.png => 1\n",
      "refined-2/1/Image_w720_h540_fn1737_1747376276730.png => 1\n",
      "refined-2/4/Image_w720_h540_fn102_1747378033577.png => 3\n",
      "refined-2/4/Image_w720_h540_fn69_1747378033410.png => 3\n"
     ]
    }
   ],
   "source": [
    "for k, v in df.itertuples(index=False):\n",
    "    print(k, '=>', v)"
   ]
  },
  {
   "cell_type": "code",
   "execution_count": null,
   "metadata": {},
   "outputs": [],
   "source": []
  }
 ],
 "metadata": {
  "kernelspec": {
   "display_name": "main",
   "language": "python",
   "name": "python3"
  },
  "language_info": {
   "codemirror_mode": {
    "name": "ipython",
    "version": 3
   },
   "file_extension": ".py",
   "mimetype": "text/x-python",
   "name": "python",
   "nbconvert_exporter": "python",
   "pygments_lexer": "ipython3",
   "version": "3.12.1"
  }
 },
 "nbformat": 4,
 "nbformat_minor": 2
}
